{
 "cells": [
  {
   "cell_type": "code",
   "execution_count": 28,
   "metadata": {},
   "outputs": [
    {
     "ename": "IndentationError",
     "evalue": "unindent does not match any outer indentation level (<ipython-input-28-47847cbc0cd5>, line 4)",
     "output_type": "error",
     "traceback": [
      "\u001b[1;36m  File \u001b[1;32m\"<ipython-input-28-47847cbc0cd5>\"\u001b[1;36m, line \u001b[1;32m4\u001b[0m\n\u001b[1;33m    else :\u001b[0m\n\u001b[1;37m          ^\u001b[0m\n\u001b[1;31mIndentationError\u001b[0m\u001b[1;31m:\u001b[0m unindent does not match any outer indentation level\n"
     ]
    }
   ],
   "source": [
    "n1 =530;n2=420;n3=41\n",
    "if n1 > n2 :\n",
    "    if n1 > n3 :\n",
    "        print ('n1 is largest number' , n1)\n",
    "    else :\n",
    "        print ('n3 is largest number' , n3)\n",
    "elif n2 > n1 :\n",
    "    if n2 > n3 :\n",
    "        print ('n2 is largest number' , n2)\n",
    "    else :\n",
    "        print ('n3 is largest number' , n3)"
   ]
  },
  {
   "cell_type": "code",
   "execution_count": 35,
   "metadata": {},
   "outputs": [
    {
     "data": {
      "text/plain": [
       "5"
      ]
     },
     "execution_count": 35,
     "metadata": {},
     "output_type": "execute_result"
    }
   ],
   "source": [
    "lst = [2,4,6,8,10]\n",
    "len(lst)\n",
    "#print(lst[0])"
   ]
  },
  {
   "cell_type": "code",
   "execution_count": 39,
   "metadata": {},
   "outputs": [
    {
     "name": "stdout",
     "output_type": "stream",
     "text": [
      "j is : 3840\n"
     ]
    }
   ],
   "source": [
    "lst = [2,4,6,8,10]\n",
    "len(lst)\n",
    "i = 0\n",
    "j = 1\n",
    "while i < len(lst):\n",
    "    j *= lst[i]\n",
    "    i += 1\n",
    "print(\"j is : {}\".format(j))"
   ]
  },
  {
   "cell_type": "code",
   "execution_count": 54,
   "metadata": {},
   "outputs": [
    {
     "name": "stdout",
     "output_type": "stream",
     "text": [
      "enter the number23\n",
      "11.5\n"
     ]
    }
   ],
   "source": [
    "n = input(\"enter the number\")\n",
    "n = int(n)\n",
    "i = n/2\n",
    "print(i)"
   ]
  },
  {
   "cell_type": "code",
   "execution_count": 69,
   "metadata": {},
   "outputs": [
    {
     "name": "stdout",
     "output_type": "stream",
     "text": [
      "enter the number23\n",
      "23 is a prime number\n"
     ]
    }
   ],
   "source": [
    "n = int(input(\"enter the number\"))\n",
    "i = n/2\n",
    "j= 2\n",
    "prime = 1\n",
    "while j < i:\n",
    "    if n%j == 0:\n",
    "        prime = 0\n",
    "        break\n",
    "    j +=1\n",
    "else:\n",
    "        prime = 1\n",
    "if prime ==1:\n",
    "    print('{} is a prime number'.format(n))\n",
    "else:\n",
    "    print('{} is not a prime number'.format(n))"
   ]
  },
  {
   "cell_type": "code",
   "execution_count": 71,
   "metadata": {},
   "outputs": [
    {
     "name": "stdout",
     "output_type": "stream",
     "text": [
      "13440\n"
     ]
    }
   ],
   "source": [
    "lst = [2,4,5,6,7,8]\n",
    "prd = 1\n",
    "for i in lst:\n",
    "    prd *= i\n",
    "print (prd)"
   ]
  }
 ],
 "metadata": {
  "kernelspec": {
   "display_name": "Python 3",
   "language": "python",
   "name": "python3"
  },
  "language_info": {
   "codemirror_mode": {
    "name": "ipython",
    "version": 3
   },
   "file_extension": ".py",
   "mimetype": "text/x-python",
   "name": "python",
   "nbconvert_exporter": "python",
   "pygments_lexer": "ipython3",
   "version": "3.6.5"
  }
 },
 "nbformat": 4,
 "nbformat_minor": 2
}
